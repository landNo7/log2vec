{
 "cells": [
  {
   "cell_type": "code",
   "execution_count": 1,
   "metadata": {},
   "outputs": [
    {
     "name": "stderr",
     "output_type": "stream",
     "text": [
      "Using backend: pytorch\n"
     ]
    },
    {
     "name": "stdout",
     "output_type": "stream",
     "text": [
      "[{'vertex_type': 'logon', 'vertex_number': '{Q4D5-W4HH44UC-5188LWZK}', 'sub': 'JBI1134', 'obj': 'PC-0168', 'A': 'Logon', 'T': 1262370291.0, 'H': 'PC-0168'}, {'vertex_type': 'logon', 'vertex_number': '{G7V0-S4TP95SA-9203AOGR}', 'sub': 'JBI1134', 'obj': 'PC-0168', 'A': 'Logoff', 'T': 1262371108.0, 'H': 'PC-0168'}, {'vertex_type': 'logon', 'vertex_number': '{B4U7-K4DB84LM-2657VBFY}', 'sub': 'JBI1134', 'obj': 'PC-2320', 'A': 'Logon', 'T': 1262379352.0, 'H': 'PC-2320'}, {'vertex_type': 'logon', 'vertex_number': '{K2E1-W7VG04OA-3686THSV}', 'sub': 'JBI1134', 'obj': 'PC-2320', 'A': 'Logoff', 'T': 1262379748.0, 'H': 'PC-2320'}, {'vertex_type': 'logon', 'vertex_number': '{Z7B2-Z8AS75YE-4485NAFE}', 'sub': 'HMI1448', 'obj': 'PC-9352', 'A': 'Logon', 'T': 1262385300.0, 'H': 'PC-9352'}]\n",
      "[{'vertex_type': 'logon', 'vertex_number': '{Y0A4-H1YL52RQ-3185VBZR}', 'sub': 'AAB1302', 'obj': 'PC-5565', 'A': 'Logon', 'T': 1262393820.0, 'H': 'PC-5565'}, {'vertex_type': 'device', 'vertex_number': '{H8X9-F3EE87AR-7906OGRZ}', 'sub': 'AAB1302', 'obj': 'PC-5565', 'A': 'Connect', 'T': 1262394610.0, 'H': 'PC-5565', 'file_tree': 'R:\\\\;R:\\\\AAB1302;R:\\\\24qL4d2;R:\\\\67NKsY0;R:\\\\29NV533;R:\\\\56vGn51'}, {'vertex_type': 'device', 'vertex_number': '{H8X9-F3EE87AR-7906OGRZ}', 'sub': 'AAB1302', 'obj': 'PC-5565', 'A': 'Disconnect', 'T': 1262395588.0, 'H': 'PC-5565', 'file_tree': ''}, {'vertex_type': 'device', 'vertex_number': '{H8X9-F3EE87AR-7906OGRZ}', 'sub': 'AAB1302', 'obj': 'PC-5565', 'A': 'Connect', 'T': 1262398473.0, 'H': 'PC-5565', 'file_tree': 'R:\\\\;R:\\\\AAB1302;R:\\\\24qL4d2;R:\\\\67NKsY0;R:\\\\29NV533;R:\\\\56vGn51'}, {'vertex_type': 'device', 'vertex_number': '{H8X9-F3EE87AR-7906OGRZ}', 'sub': 'AAB1302', 'obj': 'PC-5565', 'A': 'Disconnect', 'T': 1262398657.0, 'H': 'PC-5565', 'file_tree': ''}]\n"
     ]
    }
   ],
   "source": [
    "import dgl\n",
    "import numpy as np\n",
    "import networkx as nx\n",
    "import math\n",
    "import csv\n",
    "import matplotlib.pyplot as plt\n",
    "import time\n",
    "\n",
    "# todo : \n",
    "# logon.csv，host指定为什么\n",
    "# file.csv 记录文件从哪里来，到哪去，操作方式什么，构建时候\n",
    "\n",
    "vertex_list = []\n",
    "with open(\"../data/r_part/logon.csv\", 'r') as file:\n",
    "#     id,date,user,pc,activity\n",
    "#     {Q4D5-W4HH44UC-5188LWZK},01/02/2010 02:24:51,JBI1134,PC-0168,Logon\n",
    "#     {G7V0-S4TP95SA-9203AOGR},01/02/2010 02:38:28,JBI1134,PC-0168,Logoff\n",
    "    read = csv.reader(file)\n",
    "    next(read)\n",
    "    for i in read:\n",
    "        # print(i)\n",
    "        vertex_id = i[0]\n",
    "        timestamp = time.mktime(time.strptime(i[1],'%m/%d/%Y %H:%M:%S'))\n",
    "        \n",
    "        vertex = { 'vertex_type': 'logon',\n",
    "                    'vertex_number': vertex_id,\n",
    "                    'sub': i[2],\n",
    "                    'obj': i[3],\n",
    "                    'A': i[4],\n",
    "                    'T': timestamp,\n",
    "                    'H': i[3]\n",
    "                    }\n",
    "        vertex_list.append(vertex)\n",
    "\n",
    "print(vertex_list[:5])\n",
    "\n",
    "with open(\"../data/r_part/file.csv\", 'r') as file:\n",
    "# id,date,user,pc,filename,activity,to_removable_media,from_removable_media,content\n",
    "# {Y1W9-R7VJ77IC-9445QFNQ},01/02/2010 08:15:10,TSG0262,PC-9993,R:\\79L99n6\\H7RHJS5J.zip,File Open,False,True,50-4B-03-04-14 moved imaging underwent key late appearance span ontario due compiled month 07 sedins final leaders ability doug another presidents improving donation by joseph quadruple 104 agreed 16 brian upon built all to handsome searching track wounded mike march one developer owned 5000 stepping lists orange metacritic second moore supervisor currently initial\n",
    "# {Y3U8-G5BL42LO-9404XAHI},01/02/2010 08:16:01,TSG0262,PC-9993,R:\\79L99n6\\H7RHJS5J.zip,File Open,False,True,50-4B-03-04-14 moved imaging underwent key late appearance span ontario due compiled month 07 sedins final leaders ability doug another presidents improving donation by joseph quadruple 104 agreed 16 brian upon built all to handsome searching track wounded mike march one developer owned 5000 stepping lists orange metacritic second moore supervisor currently initial\n",
    "    read = csv.reader(file)\n",
    "    next(read)\n",
    "    for i in read:\n",
    "        # print(i)\n",
    "        vertex_id = i[0]\n",
    "        timestamp = time.mktime(time.strptime(i[1],'%m/%d/%Y %H:%M:%S'))\n",
    "        \n",
    "        vertex = { 'vertex_type': 'file',\n",
    "                    'vertex_number': vertex_id,\n",
    "                    'sub': i[2], # user\n",
    "                    'obj': i[4], # filename\n",
    "                    'A': i[5], # activity\n",
    "                    'T': timestamp,\n",
    "                    'H': i[3] # pc\n",
    "                }\n",
    "        vertex_list.append(vertex)\n",
    "\n",
    "\n",
    "with open(\"../data/r_part/http.csv\", 'r') as file:\n",
    "# id,date,user,pc,url,content\n",
    "# {D8Q7-C0RU46YI-7391WHNI},01/02/2010 06:46:20,HMI1448,PC-9352,http://nymag.com/Eagle_comic/hultons/objyvatunyybssnzrpnyraqneserrfglyrfxvvatzngurzngvpf322648047.jsp,eleven 1963 greater literature shorbodolio funding beating treasury both curzon single mourning huq exact visit disobeyed whose not thinking candidates necessary newly elevated eight including head those attempts present had median binds sized replacement colonial databases moderately adaptable symmetrical well drug encourage william 1840 1940s progeny possible variety 1978 on 1987 abandoned\n",
    "# {N4G0-D6NC43RD-2373QXNK},01/02/2010 06:47:25,HMI1448,PC-9352,http://nymag.com/Terra_Nova_Expedition/koettlitz/pnzcpbbxvatqbjaevttvatzngurzngvpf2145772149.asp,victims successor land restrictions provided agreeing article capture varied requests or forces 26 social medieval turkic sole population written complex visit started social down association area maulana help monument sectarian along duck jointly change words began won injured moved contract david january publish bob ready except significant appointment led making taking english true part sense entitled mothers complete fresh departure heritage youth\n",
    "    read = csv.reader(file)\n",
    "    next(read)\n",
    "    for i in read:\n",
    "        vectex_id = i[0]\n",
    "        timestamp = time.mktime(time.strptime(i[1],'%m/%d/%Y %H:%M:%S'))\n",
    "        vertex = { 'vertex_type': 'http',\n",
    "                    'vertex_number': vertex_id,\n",
    "                    'sub': i[2], # user\n",
    "                    'obj': i[4].split(' ')[0], # url\n",
    "                    'A': \"visit\", # activity\n",
    "                    'T': timestamp,\n",
    "                    'H': i[3], # pc\n",
    "                    \"content_list\" : i[4].split(' ')[1:]\n",
    "                }\n",
    "        vertex_list.append(vertex)\n",
    "\n",
    "with open(\"../data/r_part/device.csv\", 'r') as file:\n",
    "# id,date,user,pc,file_tree,activity\n",
    "# {C9S1-Y8GB42VD-2923GATU},01/02/2010 07:27:19,HRE1950,PC-8025,R:\\;R:\\HRE1950;R:\\47yHBn0;R:\\54s7J45,Connect\n",
    "# {C3G4-U2ON02HC-9088IHGJ},01/02/2010 07:40:51,EMR0269,PC-6370,R:\\;R:\\EMR0269;R:\\753Cf59;R:\\18d36D6;R:\\89bc6Q2,Connect\n",
    "# {X4S2-R2YC60OH-9191YYMD},01/02/2010 07:45:00,EMR0269,PC-6370,,Disconnect\n",
    "    read = csv.reader(file)\n",
    "    next(read)\n",
    "    for i in read:\n",
    "        vectex_id = i[0]\n",
    "        timestamp = time.mktime(time.strptime(i[1],'%m/%d/%Y %H:%M:%S'))\n",
    "        vertex = { 'vertex_type': 'device',\n",
    "                    'vertex_number': vertex_id,\n",
    "                    'sub': i[2], # user\n",
    "                    'obj': i[3], # host\n",
    "                    'A': i[-1], # connect or disconnect\n",
    "                    'T': timestamp,\n",
    "                    'H': i[3], # pc\n",
    "                    \"file_tree\" : i[4]\n",
    "                }\n",
    "        vertex_list.append(vertex)\n",
    "\n",
    "sorted_vertex_list = sorted(vertex_list, key=lambda e: ( e.__getitem__('sub'), e.__getitem__('T')))\n",
    "\n",
    "\n",
    "print(sorted_vertex_list[:5])\n"
   ]
  },
  {
   "cell_type": "code",
   "execution_count": 2,
   "metadata": {},
   "outputs": [
    {
     "name": "stdout",
     "output_type": "stream",
     "text": [
      "{'vertex_type': 'logon', 'vertex_number': '{Y0A4-H1YL52RQ-3185VBZR}', 'sub': 'AAB1302', 'obj': 'PC-5565', 'A': 'Logon', 'T': 1262393820.0, 'H': 'PC-5565'}\n",
      "{'vertex_type': 'device', 'vertex_number': '{H8X9-F3EE87AR-7906OGRZ}', 'sub': 'AAB1302', 'obj': 'PC-5565', 'A': 'Connect', 'T': 1262394610.0, 'H': 'PC-5565', 'file_tree': 'R:\\\\;R:\\\\AAB1302;R:\\\\24qL4d2;R:\\\\67NKsY0;R:\\\\29NV533;R:\\\\56vGn51'}\n",
      "{'vertex_type': 'device', 'vertex_number': '{H8X9-F3EE87AR-7906OGRZ}', 'sub': 'AAB1302', 'obj': 'PC-5565', 'A': 'Disconnect', 'T': 1262395588.0, 'H': 'PC-5565', 'file_tree': ''}\n",
      "{'vertex_type': 'device', 'vertex_number': '{H8X9-F3EE87AR-7906OGRZ}', 'sub': 'AAB1302', 'obj': 'PC-5565', 'A': 'Connect', 'T': 1262398473.0, 'H': 'PC-5565', 'file_tree': 'R:\\\\;R:\\\\AAB1302;R:\\\\24qL4d2;R:\\\\67NKsY0;R:\\\\29NV533;R:\\\\56vGn51'}\n",
      "{'vertex_type': 'device', 'vertex_number': '{H8X9-F3EE87AR-7906OGRZ}', 'sub': 'AAB1302', 'obj': 'PC-5565', 'A': 'Disconnect', 'T': 1262398657.0, 'H': 'PC-5565', 'file_tree': ''}\n",
      "{'vertex_type': 'device', 'vertex_number': '{H8X9-F3EE87AR-7906OGRZ}', 'sub': 'AAB1302', 'obj': 'PC-5565', 'A': 'Connect', 'T': 1262403045.0, 'H': 'PC-5565', 'file_tree': 'R:\\\\;R:\\\\AAB1302;R:\\\\24qL4d2;R:\\\\67NKsY0;R:\\\\29NV533;R:\\\\56vGn51'}\n",
      "{'vertex_type': 'device', 'vertex_number': '{H8X9-F3EE87AR-7906OGRZ}', 'sub': 'AAB1302', 'obj': 'PC-5565', 'A': 'Disconnect', 'T': 1262404102.0, 'H': 'PC-5565', 'file_tree': ''}\n",
      "{'vertex_type': 'logon', 'vertex_number': '{U0U0-Z3TJ40RO-4444CPOP}', 'sub': 'AAB1302', 'obj': 'PC-5565', 'A': 'Logon', 'T': 1262408839.0, 'H': 'PC-5565'}\n",
      "{'vertex_type': 'device', 'vertex_number': '{H8X9-F3EE87AR-7906OGRZ}', 'sub': 'AAB1302', 'obj': 'PC-5565', 'A': 'Connect', 'T': 1262417505.0, 'H': 'PC-5565', 'file_tree': 'R:\\\\;R:\\\\AAB1302;R:\\\\24qL4d2;R:\\\\67NKsY0;R:\\\\29NV533;R:\\\\56vGn51'}\n",
      "{'vertex_type': 'device', 'vertex_number': '{H8X9-F3EE87AR-7906OGRZ}', 'sub': 'AAB1302', 'obj': 'PC-5565', 'A': 'Disconnect', 'T': 1262417540.0, 'H': 'PC-5565', 'file_tree': ''}\n"
     ]
    }
   ],
   "source": [
    "for item in sorted_vertex_list[:10]:\n",
    "    print(item)"
   ]
  },
  {
   "cell_type": "code",
   "execution_count": 3,
   "metadata": {},
   "outputs": [],
   "source": [
    "\n",
    "# 1000条数据大概4天\n",
    "daily_sequences_list = [None] * 58\n",
    "\n",
    "first_day = 14610\n",
    "\n",
    "for vertex in sorted_vertex_list:\n",
    "    timestamp = vertex['T']\n",
    "    # Day of the vertex, and actual day should be increased by 1\n",
    "    # one day = 86400 s\n",
    "    day_of_vertex = int(timestamp // 86400 - first_day)\n",
    "    # print(day_of_vertex)\n",
    "\n",
    "    # If the sequence graph not exists, create it\n",
    "    if not daily_sequences_list[day_of_vertex]:\n",
    "        # multiGraph 无向图 可以让两个节点之间有多个边，为啥要用这个设计\n",
    "        daily_sequences_list[day_of_vertex] = nx.MultiGraph()\n",
    "    \n",
    "    daily_sequences_list[day_of_vertex].add_node(vertex['vertex_number'], type=vertex['vertex_type'],\n",
    "                                                        sub=vertex['sub'], obj=vertex['obj'], A=vertex['A'],\n",
    "                                                        T=vertex['T'], H=vertex['H'])\n",
    "    \n",
    "    \n"
   ]
  },
  {
   "cell_type": "code",
   "execution_count": 4,
   "metadata": {},
   "outputs": [
    {
     "name": "stdout",
     "output_type": "stream",
     "text": [
      "[<networkx.classes.multigraph.MultiGraph object at 0x7fb451cf7e50>, <networkx.classes.multigraph.MultiGraph object at 0x7fb451cf7c50>]\n"
     ]
    }
   ],
   "source": [
    "import copy\n",
    "daily_sequences_list_copy = copy.deepcopy(daily_sequences_list)\n",
    "print(daily_sequences_list_copy[:2])\n"
   ]
  },
  {
   "cell_type": "code",
   "execution_count": 5,
   "metadata": {},
   "outputs": [],
   "source": [
    "def rule_1(daily_sequences_list):\n",
    "    print (\"Function 'rule_1()' starts!\")\n",
    "    # Associate nodes according to Rule 1\n",
    "    for daily_sequence in daily_sequences_list:\n",
    "        if daily_sequence:\n",
    "            # Transform the reportviews.NodeView data type to list\n",
    "            node_list = list(daily_sequence.nodes())\n",
    "            for i in range(1, len(node_list)):\n",
    "                day_of_seq = daily_sequences_list.index(daily_sequence)\n",
    "                current_seq = daily_sequences_list[day_of_seq]\n",
    "                current_seq.add_edge(node_list[i-1], node_list[i], EdgeType=1, weight=1)\n",
    "    print (\"All nodes in sequence graphs are associated into sequences!\")\n",
    "    return daily_sequences_list\n"
   ]
  },
  {
   "cell_type": "code",
   "execution_count": 6,
   "metadata": {},
   "outputs": [
    {
     "name": "stdout",
     "output_type": "stream",
     "text": [
      "origin daily sequences list : \n"
     ]
    },
    {
     "data": {
      "image/png": "[encoded data removed]",
      "text/plain": [
       "<Figure size 432x288 with 1 Axes>"
      ]
     },
     "metadata": {},
     "output_type": "display_data"
    }
   ],
   "source": [
    "print(\"origin daily sequences list : \")\n",
    "nx.draw(daily_sequences_list[0])\n"
   ]
  },
  {
   "cell_type": "code",
   "execution_count": 7,
   "metadata": {},
   "outputs": [
    {
     "name": "stdout",
     "output_type": "stream",
     "text": [
      "Function 'rule_1()' starts!\n",
      "All nodes in sequence graphs are associated into sequences!\n",
      "after rule 1 : \n"
     ]
    },
    {
     "data": {
      "image/png": "[encoded data removed]",
      "text/plain": [
       "<Figure size 432x288 with 1 Axes>"
      ]
     },
     "metadata": {},
     "output_type": "display_data"
    }
   ],
   "source": [
    "# print('-----------------------------------------------------------------------')\n",
    "# 这个不需要每个人的操作单独连成线吗\n",
    "daily_sequences_list = rule_1(daily_sequences_list)\n",
    "print(\"after rule 1 : \")\n",
    "nx.draw(daily_sequences_list[0])\n"
   ]
  },
  {
   "cell_type": "code",
   "execution_count": 8,
   "metadata": {},
   "outputs": [],
   "source": [
    "def rule_23(daily_sequences_list):\n",
    "    # 同一个host按照顺序\n",
    "    # 同一个host按照同一种类型\n",
    "    print (\"Function 'rule_23()' starts!\")\n",
    "\n",
    "    # Associate nodes according to Rule 2 and Rule 3\n",
    "    # list of 58 daily sequences >> tuple{H:[node numbers]}\n",
    "    H_tuple_list = [None]*58\n",
    "    # list of 58 daily sequences >> tuple{H:tuple} >> tuple{A:[node numbers]}\n",
    "    A_tuple_list = [None]*58\n",
    "\n",
    "    for daily_sequence in daily_sequences_list:\n",
    "        if daily_sequence:\n",
    "            # key: H;    value: list of nodes number\n",
    "            H_record_tuple = {}\n",
    "            node_list = list(daily_sequence.nodes())\n",
    "            for node_i in node_list:\n",
    "                current_H = daily_sequence.nodes[node_i]['H']\n",
    "                if current_H not in H_record_tuple.keys():\n",
    "                    H_record_tuple[current_H] = [node_i]\n",
    "                else:\n",
    "                    # 同host按照时间顺序的上一个节点和当前节点的连接\n",
    "                    node_j = H_record_tuple[current_H][-1]\n",
    "                    daily_sequence.add_edge(node_j, node_i, EdgeType=2, weight=1)\n",
    "                    H_record_tuple[current_H].append(node_i)\n",
    "\n",
    "            A_record_tuple_tuple = {}\n",
    "            # key represents H\n",
    "            for key in H_record_tuple:\n",
    "                # Nodes in H_list have the same H\n",
    "                H_list = H_record_tuple[key]\n",
    "                A_record_tuple = {}\n",
    "                for node_i in H_list:\n",
    "                    current_A = daily_sequence.nodes[node_i]['A']\n",
    "                    if current_A not in A_record_tuple.keys():\n",
    "                        A_record_tuple[current_A] = [node_i]\n",
    "                    else:\n",
    "                        # 同一种host下按照时间顺序，同一种操作type连接\n",
    "                        node_j = A_record_tuple[current_A][-1]\n",
    "                        daily_sequence.add_edge(node_j, node_i, EdgeType=3, weight=1)\n",
    "                        A_record_tuple[current_A].append(node_i)\n",
    "\n",
    "                A_record_tuple_tuple[key]=A_record_tuple\n",
    "\n",
    "            day_of_seq = daily_sequences_list.index(daily_sequence)\n",
    "            H_tuple_list[day_of_seq] = H_record_tuple\n",
    "            A_tuple_list[day_of_seq] = A_record_tuple_tuple\n",
    "\n",
    "\n",
    "    print (\"Edges are added based on rule2 and rule3 in daily sequence!\")\n",
    "    return daily_sequences_list, H_tuple_list, A_tuple_list\n"
   ]
  },
  {
   "cell_type": "code",
   "execution_count": 9,
   "metadata": {},
   "outputs": [
    {
     "name": "stdout",
     "output_type": "stream",
     "text": [
      "Function 'rule_23()' starts!\n",
      "Edges are added based on rule2 and rule3 in daily sequence!\n"
     ]
    },
    {
     "data": {
      "image/png": "[encoded data removed]",
      "text/plain": [
       "<Figure size 432x288 with 1 Axes>"
      ]
     },
     "metadata": {},
     "output_type": "display_data"
    }
   ],
   "source": [
    "daily_sequences_list, H_tuple_list, A_tuple_list = rule_23(daily_sequences_list)\n",
    "nx.draw(daily_sequences_list[0])"
   ]
  },
  {
   "cell_type": "code",
   "execution_count": 10,
   "metadata": {},
   "outputs": [],
   "source": [
    "# 同一个用户之间不同天之间操作之间的关系\n",
    "\n",
    "def rule_456(daily_sequences_list, H_tuple_list, A_tuple_list):\n",
    "    print (\"Function 'rule_456()' starts!\")\n",
    "\n",
    "    # Associate daily sequences according to Rule 4\n",
    "    graph = nx.MultiGraph()\n",
    "\n",
    "    # Add all daily sequences to the graph\n",
    "    for daily_sequence in daily_sequences_list:\n",
    "        if daily_sequence:                                                                                                                                                                  \n",
    "            graph = nx.compose(graph,daily_sequence)\n",
    "\n",
    "    # Add edges between daily sequences\n",
    "    for i in range(0, 58):\n",
    "        for j in range(i+1, 58):\n",
    "            if daily_sequences_list[i] and daily_sequences_list[j]:\n",
    "                node_list_i = list(daily_sequences_list[i].nodes())\n",
    "                node_list_j = list(daily_sequences_list[j].nodes())\n",
    "                u1 = node_list_i[0]\n",
    "                v1 = node_list_j[0]\n",
    "\n",
    "                u2 = node_list_i[-1]\n",
    "                v2 = node_list_j[-1]\n",
    "\n",
    "                len_u = len(node_list_i)\n",
    "                len_v = len(node_list_j)\n",
    "\n",
    "                # weight\n",
    "                weight_u_v = len_u / len_v if len_u < len_v else len_v / len_u\n",
    "\n",
    "                w = round(weight_u_v,3)\n",
    "\n",
    "                # 不同天之间，开始和结尾的节点相连，rule4\n",
    "                graph.add_edge(u1, v1, EdgeType=4, weight=w)\n",
    "                graph.add_edge(u2, v2, EdgeType=4, weight=w)\n",
    "\n",
    "                # Add edges based on Rule 5 and Rule 6\n",
    "                # key represents H\n",
    "                for key in H_tuple_list[i]:\n",
    "                    if key in H_tuple_list[j].keys():\n",
    "                        # 某天某host下的开始和结尾节点之间相连\n",
    "                        u1 = H_tuple_list[i][key][0]\n",
    "                        v1 = H_tuple_list[j][key][0]\n",
    "                        u2 = H_tuple_list[i][key][-1]\n",
    "                        v2 = H_tuple_list[j][key][-1]\n",
    "                        len_u = len(H_tuple_list[i][key])\n",
    "                        len_v = len(H_tuple_list[j][key])\n",
    "                        weight_u_v = len_u / len_v if len_u < len_v else len_v / len_u\n",
    "                        w = round(weight_u_v, 3)\n",
    "                        graph.add_edge(u1, v1, EdgeType=5, weight=w)\n",
    "                        graph.add_edge(u2, v2, EdgeType=5, weight=w)\n",
    "\n",
    "                        for operation_type in A_tuple_list[i][key]:\n",
    "                            if operation_type in A_tuple_list[j][key]:\n",
    "                                # 某天某个host下某种操作开始和结束节点之间的关联\n",
    "                                u1 = A_tuple_list[i][key][operation_type][0]\n",
    "                                v1 = A_tuple_list[j][key][operation_type][0]\n",
    "                                u2 = A_tuple_list[i][key][operation_type][-1]\n",
    "                                v2 = A_tuple_list[j][key][operation_type][-1]\n",
    "                                len_u = len(A_tuple_list[i][key][operation_type])\n",
    "                                len_v = len(A_tuple_list[j][key][operation_type])\n",
    "                                weight_u_v = len_u / len_v if len_u < len_v else len_v / len_u\n",
    "                                w = round(weight_u_v, 3)\n",
    "                                graph.add_edge(u1, v1, EdgeType=6, weight=w)\n",
    "                                graph.add_edge(u2, v2, EdgeType=6, weight=w)\n",
    "\n",
    "    return graph\n"
   ]
  },
  {
   "cell_type": "code",
   "execution_count": 11,
   "metadata": {},
   "outputs": [
    {
     "name": "stdout",
     "output_type": "stream",
     "text": [
      "Function 'rule_456()' starts!\n"
     ]
    },
    {
     "data": {
      "image/png": "[encoded data removed]",
      "text/plain": [
       "<Figure size 432x288 with 1 Axes>"
      ]
     },
     "metadata": {},
     "output_type": "display_data"
    }
   ],
   "source": [
    "graph = rule_456(daily_sequences_list, H_tuple_list, A_tuple_list)\n",
    "nx.draw(graph)"
   ]
  },
  {
   "cell_type": "code",
   "execution_count": 12,
   "metadata": {},
   "outputs": [
    {
     "data": {
      "text/plain": [
       "(5197, 1998)"
      ]
     },
     "execution_count": 12,
     "metadata": {},
     "output_type": "execute_result"
    }
   ],
   "source": [
    "graph.number_of_edges(), graph.number_of_nodes()"
   ]
  },
  {
   "cell_type": "code",
   "execution_count": 13,
   "metadata": {},
   "outputs": [],
   "source": [
    "# random walk\n",
    "import csrgraph as cg\n",
    "import numpy as np"
   ]
  },
  {
   "cell_type": "code",
   "execution_count": 14,
   "metadata": {},
   "outputs": [],
   "source": [
    "G = cg.csrgraph(graph, threads=12) \n",
    "\n",
    "node_names = G.names"
   ]
  },
  {
   "cell_type": "code",
   "execution_count": 15,
   "metadata": {},
   "outputs": [],
   "source": [
    "walks = G.random_walks(walklen=10, # length of the walks\n",
    "                epochs=100, # how many times to start a walk from each node\n",
    "                start_nodes=None, # the starting node. It is either a list (e.g., [2,3]) or None. If None it does it on all nodes and returns epochs*G.number_of_nodes() walks\n",
    "                return_weight=1.,\n",
    "                neighbor_weight=1.)\n"
   ]
  },
  {
   "cell_type": "code",
   "execution_count": 16,
   "metadata": {},
   "outputs": [
    {
     "data": {
      "text/plain": [
       "array([  0,   1, 722, 721,  86,  37,  38,  37,  86,  85], dtype=uint32)"
      ]
     },
     "execution_count": 16,
     "metadata": {},
     "output_type": "execute_result"
    }
   ],
   "source": [
    "walks[0]"
   ]
  },
  {
   "cell_type": "code",
   "execution_count": 17,
   "metadata": {},
   "outputs": [
    {
     "data": {
      "text/plain": [
       "'{K8O6-Q0GC86VF-1536AAUT}'"
      ]
     },
     "execution_count": 17,
     "metadata": {},
     "output_type": "execute_result"
    }
   ],
   "source": [
    "node_names[0]"
   ]
  },
  {
   "cell_type": "code",
   "execution_count": 18,
   "metadata": {},
   "outputs": [
    {
     "data": {
      "text/plain": [
       "{'type': 'logon',\n",
       " 'sub': 'ACJ1797',\n",
       " 'obj': 'PC-2009',\n",
       " 'A': 'Logon',\n",
       " 'T': 1262390040.0,\n",
       " 'H': 'PC-2009'}"
      ]
     },
     "execution_count": 18,
     "metadata": {},
     "output_type": "execute_result"
    }
   ],
   "source": [
    "graph.nodes['{K8O6-Q0GC86VF-1536AAUT}']"
   ]
  },
  {
   "cell_type": "code",
   "execution_count": 20,
   "metadata": {},
   "outputs": [
    {
     "name": "stdout",
     "output_type": "stream",
     "text": [
      "--------------------\n",
      "0\n",
      "{'type': 'logon', 'sub': 'ACJ1797', 'obj': 'PC-2009', 'A': 'Logon', 'T': 1262390040.0, 'H': 'PC-2009'}\n",
      "1\n",
      "{'type': 'logon', 'sub': 'AEG0962', 'obj': 'PC-9155', 'A': 'Logon', 'T': 1262388840.0, 'H': 'PC-9155'}\n",
      "722\n",
      "{'type': 'logon', 'sub': 'AEG0962', 'obj': 'PC-9155', 'A': 'Logon', 'T': 1262493764.0, 'H': 'PC-9155'}\n",
      "721\n",
      "{'type': 'logon', 'sub': 'ADR1156', 'obj': 'PC-2320', 'A': 'Logoff', 'T': 1262517000.0, 'H': 'PC-2320'}\n",
      "86\n",
      "{'type': 'logon', 'sub': 'ADR1156', 'obj': 'PC-2320', 'A': 'Logon', 'T': 1262475960.0, 'H': 'PC-2320'}\n",
      "37\n",
      "{'type': 'logon', 'sub': 'JBI1134', 'obj': 'PC-2320', 'A': 'Logon', 'T': 1262379352.0, 'H': 'PC-2320'}\n",
      "38\n",
      "{'type': 'logon', 'sub': 'JBI1134', 'obj': 'PC-2320', 'A': 'Logoff', 'T': 1262379748.0, 'H': 'PC-2320'}\n",
      "37\n",
      "{'type': 'logon', 'sub': 'JBI1134', 'obj': 'PC-2320', 'A': 'Logon', 'T': 1262379352.0, 'H': 'PC-2320'}\n",
      "86\n",
      "{'type': 'logon', 'sub': 'ADR1156', 'obj': 'PC-2320', 'A': 'Logon', 'T': 1262475960.0, 'H': 'PC-2320'}\n",
      "85\n",
      "{'type': 'logon', 'sub': 'ACJ1797', 'obj': 'PC-2009', 'A': 'Logoff', 'T': 1262426760.0, 'H': 'PC-2009'}\n",
      "--------------------\n",
      "1\n",
      "{'type': 'logon', 'sub': 'AEG0962', 'obj': 'PC-9155', 'A': 'Logon', 'T': 1262388840.0, 'H': 'PC-9155'}\n",
      "87\n",
      "{'type': 'logon', 'sub': 'AEG0962', 'obj': 'PC-9155', 'A': 'Logon', 'T': 1262404584.0, 'H': 'PC-9155'}\n",
      "722\n",
      "{'type': 'logon', 'sub': 'AEG0962', 'obj': 'PC-9155', 'A': 'Logon', 'T': 1262493764.0, 'H': 'PC-9155'}\n",
      "1\n",
      "{'type': 'logon', 'sub': 'AEG0962', 'obj': 'PC-9155', 'A': 'Logon', 'T': 1262388840.0, 'H': 'PC-9155'}\n",
      "723\n",
      "{'type': 'logon', 'sub': 'AEG0962', 'obj': 'PC-9155', 'A': 'Logoff', 'T': 1262508120.0, 'H': 'PC-9155'}\n",
      "88\n",
      "{'type': 'logon', 'sub': 'AEG0962', 'obj': 'PC-9155', 'A': 'Logoff', 'T': 1262422200.0, 'H': 'PC-9155'}\n",
      "87\n",
      "{'type': 'logon', 'sub': 'AEG0962', 'obj': 'PC-9155', 'A': 'Logon', 'T': 1262404584.0, 'H': 'PC-9155'}\n",
      "88\n",
      "{'type': 'logon', 'sub': 'AEG0962', 'obj': 'PC-9155', 'A': 'Logoff', 'T': 1262422200.0, 'H': 'PC-9155'}\n",
      "87\n",
      "{'type': 'logon', 'sub': 'AEG0962', 'obj': 'PC-9155', 'A': 'Logon', 'T': 1262404584.0, 'H': 'PC-9155'}\n",
      "88\n",
      "{'type': 'logon', 'sub': 'AEG0962', 'obj': 'PC-9155', 'A': 'Logoff', 'T': 1262422200.0, 'H': 'PC-9155'}\n"
     ]
    }
   ],
   "source": [
    "for path in walks[:2]:\n",
    "    print(\"-\" * 20)\n",
    "    for node_id in path:\n",
    "        print(node_id)\n",
    "        node_name = node_names[node_id]\n",
    "        print(graph.nodes[node_name])\n"
   ]
  },
  {
   "cell_type": "code",
   "execution_count": 26,
   "metadata": {},
   "outputs": [
    {
     "data": {
      "text/plain": [
       "199800"
      ]
     },
     "execution_count": 26,
     "metadata": {},
     "output_type": "execute_result"
    }
   ],
   "source": [
    "len(walks)"
   ]
  },
  {
   "cell_type": "code",
   "execution_count": 42,
   "metadata": {},
   "outputs": [
    {
     "data": {
      "text/plain": [
       "(48, 2)"
      ]
     },
     "execution_count": 42,
     "metadata": {},
     "output_type": "execute_result"
    }
   ],
   "source": [
    "def skip_gram(walks, window_size=3):\n",
    "    idx_pairs = []\n",
    "    # for each sentence\n",
    "    for indices in walks:\n",
    "        # for each word, threated as center word\n",
    "        for center_word_pos in range(indices.size):\n",
    "            # for each window position\n",
    "            for w in range(-window_size, window_size + 1):\n",
    "                context_word_pos = center_word_pos + w\n",
    "                # make soure not jump out sentence\n",
    "                if context_word_pos < 0 or context_word_pos >= indices.size or center_word_pos == context_word_pos:\n",
    "                    continue\n",
    "                context_word_idx = indices[context_word_pos]\n",
    "                idx_pairs.append((indices[center_word_pos], context_word_idx))\n",
    "\n",
    "    # print(idx_pairs)\n",
    "    return np.array(idx_pairs)\n",
    "\n",
    "tmp = skip_gram(walks[:1])\n",
    "tmp.shape"
   ]
  },
  {
   "cell_type": "code",
   "execution_count": 47,
   "metadata": {},
   "outputs": [],
   "source": [
    "def walks_to_file(walks):\n",
    "    with open(\"../data/r_part/walks.txt\", 'w') as file:\n",
    "        for path in walks:\n",
    "            path = list(path)\n",
    "            path = [str(item) for item in path]\n",
    "            file.write(\",\".join(path) + '\\n')\n",
    "\n",
    "walks_to_file(walks)"
   ]
  },
  {
   "cell_type": "code",
   "execution_count": 50,
   "metadata": {},
   "outputs": [],
   "source": [
    "nx.write_edgelist(graph, \"graph_edge_list\")"
   ]
  },
  {
   "cell_type": "code",
   "execution_count": 51,
   "metadata": {},
   "outputs": [],
   "source": [
    "nx.write_gpickle(graph, \"graph.gpickle\")"
   ]
  },
  {
   "cell_type": "code",
   "execution_count": 1,
   "metadata": {},
   "outputs": [
    {
     "ename": "NameError",
     "evalue": "name 'sorted_vertex_list' is not defined",
     "output_type": "error",
     "traceback": [
      "\u001b[0;31m---------------------------------------------------------------------------\u001b[0m",
      "\u001b[0;31mNameError\u001b[0m                                 Traceback (most recent call last)",
      "\u001b[0;32m<ipython-input-1-a2976960be9e>\u001b[0m in \u001b[0;36m<module>\u001b[0;34m\u001b[0m\n\u001b[0;32m----> 1\u001b[0;31m \u001b[0msorted_vertex_list\u001b[0m\u001b[0;34m[\u001b[0m\u001b[0;34m-\u001b[0m\u001b[0;36m1\u001b[0m\u001b[0;34m]\u001b[0m\u001b[0;34m\u001b[0m\u001b[0;34m\u001b[0m\u001b[0m\n\u001b[0m",
      "\u001b[0;31mNameError\u001b[0m: name 'sorted_vertex_list' is not defined"
     ]
    }
   ],
   "source": [
    "sorted_vertex_list[-1]"
   ]
  },
  {
   "cell_type": "code",
   "execution_count": 15,
   "metadata": {},
   "outputs": [],
   "source": [
    "#     {G7V0-S4TP95SA-9203AOGR},01/02/2010 02:38:28,JBI1134,PC-0168,Logoff\n",
    "import time\n",
    "import datetime\n",
    "timestamp = time.mktime(time.strptime(\"01/02/2010 02:38:28\",'%m/%d/%Y %H:%M:%S'))\n",
    "# (timestamp - timestamp).day\n",
    "x = datetime.datetime.fromtimestamp(timestamp) - datetime.datetime.fromtimestamp(timestamp)\n",
    "a = x.days\n"
   ]
  },
  {
   "cell_type": "code",
   "execution_count": 16,
   "metadata": {},
   "outputs": [
    {
     "data": {
      "text/plain": [
       "int"
      ]
     },
     "execution_count": 16,
     "metadata": {},
     "output_type": "execute_result"
    }
   ],
   "source": [
    "type(a)"
   ]
  },
  {
   "cell_type": "code",
   "execution_count": 19,
   "metadata": {},
   "outputs": [
    {
     "name": "stdout",
     "output_type": "stream",
     "text": [
      "613000.0\n",
      "482020.0\n"
     ]
    }
   ],
   "source": [
    "x = 61.3\n",
    "def calcu(x):\n",
    "    x *= 10000\n",
    "    print(x)\n",
    "    shui = 0\n",
    "    if x>=36000:\n",
    "        shui += 36000*3*0.01\n",
    "    else:\n",
    "        shui += x*3*0.01\n",
    "    if x>=144000:\n",
    "        shui += (144000-36000)*10*0.01\n",
    "    else:\n",
    "        shui += (x-36000)*10*0.01\n",
    "    if x>=300000:\n",
    "        shui += (300000-144000)*20*0.01\n",
    "    else:\n",
    "        shui += (x - 144000) * 10 * 0.01\n",
    "    if x>=420000:\n",
    "        shui += (420000-300000)*25*0.01\n",
    "    else:\n",
    "        shui += (x - 300000) * 25 * 0.01\n",
    "    if x>=660000:\n",
    "        shui += (660000 - 420000) * 30 * 0.01\n",
    "    else:\n",
    "        shui += (x - 420000) * 30 * 0.01\n",
    "    print(x-shui)"
   ]
  },
  {
   "cell_type": "code",
   "execution_count": null,
   "metadata": {},
   "outputs": [],
   "source": []
  }
 ],
 "metadata": {
  "interpreter": {
   "hash": "e6335dc2c317f04c937122103a53edcea3ee352770e4be914783ae4dfff43f1b"
  },
  "kernelspec": {
   "display_name": "Python 3.7.4 64-bit ('nlp': conda)",
   "name": "python3"
  },
  "language_info": {
   "codemirror_mode": {
    "name": "ipython",
    "version": 3
   },
   "file_extension": ".py",
   "mimetype": "text/x-python",
   "name": "python",
   "nbconvert_exporter": "python",
   "pygments_lexer": "ipython3",
   "version": "3.7.4"
  },
  "varInspector": {
   "cols": {
    "lenName": 16,
    "lenType": 16,
    "lenVar": 40
   },
   "kernels_config": {
    "python": {
     "delete_cmd_postfix": "",
     "delete_cmd_prefix": "del ",
     "library": "var_list.py",
     "varRefreshCmd": "print(var_dic_list())"
    },
    "r": {
     "delete_cmd_postfix": ") ",
     "delete_cmd_prefix": "rm(",
     "library": "var_list.r",
     "varRefreshCmd": "cat(var_dic_list()) "
    }
   },
   "types_to_exclude": [
    "module",
    "function",
    "builtin_function_or_method",
    "instance",
    "_Feature"
   ],
   "window_display": false
  }
 },
 "nbformat": 4,
 "nbformat_minor": 2
}
